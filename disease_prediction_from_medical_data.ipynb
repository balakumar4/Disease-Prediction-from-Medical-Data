{
  "nbformat": 4,
  "nbformat_minor": 0,
  "metadata": {
    "colab": {
      "provenance": [],
      "authorship_tag": "ABX9TyPoNKYeaLFNorlOncNf4AMv",
      "include_colab_link": true
    },
    "kernelspec": {
      "name": "python3",
      "display_name": "Python 3"
    },
    "language_info": {
      "name": "python"
    }
  },
  "cells": [
    {
      "cell_type": "markdown",
      "metadata": {
        "id": "view-in-github",
        "colab_type": "text"
      },
      "source": [
        "<a href=\"https://colab.research.google.com/github/balakumar4/Disease-Prediction-from-Medical-Data/blob/main/disease_prediction_from_medical_data.ipynb\" target=\"_parent\"><img src=\"https://colab.research.google.com/assets/colab-badge.svg\" alt=\"Open In Colab\"/></a>"
      ]
    },
    {
      "cell_type": "code",
      "execution_count": null,
      "metadata": {
        "id": "OQsEe3i8P8Rd"
      },
      "outputs": [],
      "source": [
        "!pip -q install xgboost imbalanced-learn\n"
      ]
    },
    {
      "cell_type": "code",
      "source": [
        "import os, pathlib\n",
        "DATA_DIR = pathlib.Path(\"/content/data\")\n",
        "DATA_DIR.mkdir(parents=True, exist_ok=True)\n",
        "\n",
        "# Diabetes (Pima Indians) – has headers\n",
        "!wget -qO /content/data/diabetes.csv https://raw.githubusercontent.com/plotly/datasets/master/diabetes.csv\n",
        "\n",
        "# Heart Disease (Cleveland-style CSV)\n",
        "!wget -qO /content/data/heart.csv https://raw.githubusercontent.com/anikannal/heart_disease_prediction/master/heart.csv\n",
        "\n",
        "# (Breast Cancer will be loaded from scikit-learn directly, no CSV needed)\n",
        "\n",
        "# Show what we downloaded\n",
        "!ls -lh /content/data\n"
      ],
      "metadata": {
        "colab": {
          "base_uri": "https://localhost:8080/"
        },
        "id": "zcCzZ2TkQYnO",
        "outputId": "2cbdfe4d-3fd9-4e4d-e6b1-676e59d32118"
      },
      "execution_count": null,
      "outputs": [
        {
          "output_type": "stream",
          "name": "stdout",
          "text": [
            "total 24K\n",
            "-rw-r--r-- 1 root root 24K Aug 22 10:09 diabetes.csv\n",
            "-rw-r--r-- 1 root root   0 Aug 22 10:09 heart.csv\n"
          ]
        }
      ]
    },
    {
      "cell_type": "code",
      "source": [
        "import numpy as np\n",
        "import pandas as pd\n",
        "from pathlib import Path\n",
        "\n",
        "from sklearn.model_selection import train_test_split, StratifiedKFold, cross_validate\n",
        "from sklearn.preprocessing import StandardScaler\n",
        "from sklearn.compose import ColumnTransformer\n",
        "from sklearn.pipeline import Pipeline\n",
        "from sklearn.metrics import classification_report, confusion_matrix\n",
        "\n",
        "from sklearn.linear_model import LogisticRegression\n",
        "from sklearn.svm import SVC\n",
        "from sklearn.ensemble import RandomForestClassifier\n",
        "\n",
        "from imblearn.over_sampling import SMOTE\n",
        "from imblearn.pipeline import Pipeline as ImbPipeline\n",
        "\n",
        "import xgboost as xgb\n",
        "import joblib\n",
        "import matplotlib.pyplot as plt\n",
        "\n",
        "RANDOM_STATE = 42\n",
        "np.random.seed(RANDOM_STATE)\n"
      ],
      "metadata": {
        "id": "m070FtRbQrKe"
      },
      "execution_count": null,
      "outputs": []
    },
    {
      "cell_type": "code",
      "source": [
        "DATA_DIR = Path(\"/content/data\")\n",
        "\n",
        "def load_diabetes():\n",
        "    \"\"\"Pima Indians Diabetes dataset (binary target 'Outcome').\"\"\"\n",
        "    df = pd.read_csv(DATA_DIR / \"diabetes.csv\")\n",
        "    # Treat biologically impossible zeros as missing\n",
        "    zero_as_nan_cols = ['Glucose','BloodPressure','SkinThickness','Insulin','BMI']\n",
        "    for c in zero_as_nan_cols:\n",
        "        df[c] = df[c].replace(0, np.nan)\n",
        "    # Impute missing with median\n",
        "    df[zero_as_nan_cols] = df[zero_as_nan_cols].fillna(df[zero_as_nan_cols].median())\n",
        "\n",
        "    X = df.drop(columns=['Outcome'])\n",
        "    y = df['Outcome'].astype(int)\n",
        "    return X, y, \"diabetes\"\n",
        "\n",
        "def load_heart():\n",
        "    \"\"\"Heart disease dataset (binary target 'target').\"\"\"\n",
        "    df = pd.read_csv(DATA_DIR / \"heart.csv\")\n",
        "    # Basic sanity cleanup if any missing\n",
        "    df = df.dropna()\n",
        "    X = df.drop(columns=['target'])\n",
        "    y = df['target'].astype(int)\n",
        "    return X, y, \"heart\"\n",
        "\n",
        "def load_breast_cancer():\n",
        "    \"\"\"Built-in scikit-learn Breast Cancer Wisconsin dataset.\"\"\"\n",
        "    from sklearn.datasets import load_breast_cancer\n",
        "    data = load_breast_cancer(as_frame=True)\n",
        "    X = data.frame.drop(columns=['target'])\n",
        "    y = data.frame['target'].astype(int)\n",
        "    return X, y, \"breast_cancer\"\n"
      ],
      "metadata": {
        "id": "04ftoXA0QuC7"
      },
      "execution_count": null,
      "outputs": []
    },
    {
      "cell_type": "code",
      "source": [
        "def make_pipelines(numerical_cols):\n",
        "    \"\"\"Create pipelines for each model with preprocessing + SMOTE.\"\"\"\n",
        "    # Preprocess: scale numeric for LR/SVM; tree models don’t need scaling\n",
        "    scaler = ColumnTransformer(\n",
        "        transformers=[('num', StandardScaler(), numerical_cols)],\n",
        "        remainder='passthrough'\n",
        "    )\n",
        "\n",
        "    models = {\n",
        "        \"LogisticRegression\": LogisticRegression(max_iter=5000, solver=\"saga\", random_state=RANDOM_STATE),\n",
        "        \"SVM\": SVC(kernel='rbf', probability=True, random_state=RANDOM_STATE),\n",
        "        \"RandomForest\": RandomForestClassifier(\n",
        "            n_estimators=300, max_depth=None, random_state=RANDOM_STATE, n_jobs=-1\n",
        "        ),\n",
        "        \"XGBoost\": xgb.XGBClassifier(\n",
        "            n_estimators=400, max_depth=4, learning_rate=0.05, subsample=0.9,\n",
        "            colsample_bytree=0.9, reg_lambda=1.0, random_state=RANDOM_STATE, n_jobs=-1,\n",
        "            eval_metric='logloss'\n",
        "        ),\n",
        "    }\n",
        "\n",
        "    # Build proper pipelines (scale for LR/SVM; pass-through for trees)\n",
        "    pipes = {}\n",
        "    for name, clf in models.items():\n",
        "        if name in [\"LogisticRegression\", \"SVM\"]:\n",
        "            pipe = ImbPipeline(steps=[\n",
        "                ('scale', scaler),\n",
        "                ('smote', SMOTE(random_state=RANDOM_STATE)),\n",
        "                ('clf', clf)\n",
        "            ])\n",
        "        else:\n",
        "            pipe = ImbPipeline(steps=[\n",
        "                ('smote', SMOTE(random_state=RANDOM_STATE)),\n",
        "                ('clf', clf)\n",
        "            ])\n",
        "        pipes[name] = pipe\n",
        "    return pipes\n",
        "\n",
        "def evaluate_models(X, y, dataset_name=\"dataset\"):\n",
        "    skf = StratifiedKFold(n_splits=5, shuffle=True, random_state=RANDOM_STATE)\n",
        "    numeric_cols = X.columns.tolist()  # all numeric in these datasets\n",
        "\n",
        "    pipelines = make_pipelines(numeric_cols)\n",
        "\n",
        "    rows = []\n",
        "    for name, pipe in pipelines.items():\n",
        "        scores = cross_validate(\n",
        "            pipe, X, y,\n",
        "            cv=skf,\n",
        "            scoring=['accuracy', 'precision', 'recall', 'f1', 'roc_auc'],\n",
        "            n_jobs=-1, return_train_score=False\n",
        "        )\n",
        "        row = {\n",
        "            \"Dataset\": dataset_name,\n",
        "            \"Model\": name,\n",
        "            \"Accuracy\": scores['test_accuracy'].mean(),\n",
        "            \"Precision\": scores['test_precision'].mean(),\n",
        "            \"Recall\": scores['test_recall'].mean(),\n",
        "            \"F1\": scores['test_f1'].mean(),\n",
        "            \"ROC_AUC\": scores['test_roc_auc'].mean(),\n",
        "        }\n",
        "        rows.append(row)\n",
        "\n",
        "    results = pd.DataFrame(rows).sort_values([\"ROC_AUC\",\"F1\"], ascending=False).reset_index(drop=True)\n",
        "    return results\n"
      ],
      "metadata": {
        "id": "PE8Df57IQxLm"
      },
      "execution_count": null,
      "outputs": []
    },
    {
      "cell_type": "code",
      "source": [
        "from pathlib import Path\n",
        "DATA_DIR = Path(\"/content/data\")\n",
        "for fname in [\"diabetes.csv\", \"heart.csv\"]:\n",
        "    p = DATA_DIR / fname\n",
        "    print(f\"{fname}  exists={p.exists()}  size={p.stat().st_size if p.exists() else '—'} bytes\")\n",
        "    if p.exists() and p.stat().st_size < 200:\n",
        "        print(\"  -> This looks empty/corrupted. We’ll re-download it.\")\n"
      ],
      "metadata": {
        "colab": {
          "base_uri": "https://localhost:8080/"
        },
        "id": "YCX0KLkdRQhL",
        "outputId": "bdc6fafe-e32b-411a-ffe3-554b14575f37"
      },
      "execution_count": null,
      "outputs": [
        {
          "output_type": "stream",
          "name": "stdout",
          "text": [
            "diabetes.csv  exists=True  size=23873 bytes\n",
            "heart.csv  exists=True  size=0 bytes\n",
            "  -> This looks empty/corrupted. We’ll re-download it.\n"
          ]
        }
      ]
    },
    {
      "cell_type": "code",
      "source": [
        "# Clean bad file (if any) and re-download\n",
        "!rm -f /content/data/heart.csv\n",
        "# Use a fresh fetch with curl -L (follows redirects)\n",
        "!curl -L -o /content/data/heart.csv https://raw.githubusercontent.com/anikannal/heart_disease_prediction/master/heart.csv\n",
        "\n",
        "# Sanity check a few lines\n",
        "!wc -l /content/data/heart.csv\n",
        "!head -n 5 /content/data/heart.csv\n"
      ],
      "metadata": {
        "colab": {
          "base_uri": "https://localhost:8080/"
        },
        "id": "MEN7jy9ARTtP",
        "outputId": "e01335a5-6abd-4552-a933-2775ead3a006"
      },
      "execution_count": null,
      "outputs": [
        {
          "output_type": "stream",
          "name": "stdout",
          "text": [
            "  % Total    % Received % Xferd  Average Speed   Time    Time     Time  Current\n",
            "                                 Dload  Upload   Total   Spent    Left  Speed\n",
            "\r  0     0    0     0    0     0      0      0 --:--:-- --:--:-- --:--:--     0\r100    14  100    14    0     0     94      0 --:--:-- --:--:-- --:--:--    95\n",
            "0 /content/data/heart.csv\n",
            "404: Not Found"
          ]
        }
      ]
    },
    {
      "cell_type": "code",
      "source": [
        "# (Optional) clear any bad cache\n",
        "!rm -f /content/data/heart.csv\n",
        "\n",
        "def load_heart():\n",
        "    \"\"\"\n",
        "    Load UCI Cleveland heart dataset directly from UCI, clean it, and cache as /content/data/heart.csv.\n",
        "    Target is binarized: num > 0 -> 1 (disease), else 0.\n",
        "    Returns: X, y, \"heart\"\n",
        "    \"\"\"\n",
        "    import pandas as pd\n",
        "    from pathlib import Path\n",
        "\n",
        "    urls = [\n",
        "        \"http://archive.ics.uci.edu/ml/machine-learning-databases/heart-disease/processed.cleveland.data\",\n",
        "        \"https://archive.ics.uci.edu/ml/machine-learning-databases/heart-disease/processed.cleveland.data\",\n",
        "    ]\n",
        "    cols = [\n",
        "        \"age\",\"sex\",\"cp\",\"trestbps\",\"chol\",\"fbs\",\"restecg\",\"thalach\",\"exang\",\n",
        "        \"oldpeak\",\"slope\",\"ca\",\"thal\",\"num\"\n",
        "    ]\n",
        "\n",
        "    df, last_err = None, None\n",
        "    for u in urls:\n",
        "        try:\n",
        "            df = pd.read_csv(u, header=None, names=cols, na_values=\"?\", dtype=str)\n",
        "            if df.shape[1] == len(cols) and not df.empty:\n",
        "                break\n",
        "            df = None\n",
        "        except Exception as e:\n",
        "            last_err = e\n",
        "\n",
        "    if df is None or df.empty:\n",
        "        raise RuntimeError(f\"Could not fetch UCI heart dataset. Last error: {last_err}\")\n",
        "\n",
        "    # to numeric + drop missing rows\n",
        "    for c in cols:\n",
        "        df[c] = pd.to_numeric(df[c], errors=\"coerce\")\n",
        "    df = df.dropna().reset_index(drop=True)\n",
        "\n",
        "    # binarize target and split\n",
        "    y = (df[\"num\"] > 0).astype(int)\n",
        "    X = df.drop(columns=[\"num\"])\n",
        "\n",
        "    # cache a clean copy\n",
        "    data_dir = Path(\"/content/data\"); data_dir.mkdir(parents=True, exist_ok=True)\n",
        "    clean = X.copy(); clean[\"target\"] = y\n",
        "    clean.to_csv(data_dir / \"heart.csv\", index=False)\n",
        "\n",
        "    return X, y, \"heart\"\n"
      ],
      "metadata": {
        "id": "MYT5CxFSR0DD"
      },
      "execution_count": null,
      "outputs": []
    },
    {
      "cell_type": "code",
      "source": [
        "!rm -f /content/data/heart.csv\n"
      ],
      "metadata": {
        "id": "GAVdTnUjR3gN"
      },
      "execution_count": null,
      "outputs": []
    },
    {
      "cell_type": "code",
      "source": [
        "# Remove any bad cached file (optional)\n",
        "!rm -f /content/data/heart.csv\n",
        "\n",
        "def load_heart():\n",
        "    \"\"\"\n",
        "    Loads UCI 'processed.cleveland.data' directly from the UCI archive,\n",
        "    cleans it, and returns (X, y, 'heart').\n",
        "    Target y is binarized: num > 0 -> 1 (disease), else 0 (no disease).\n",
        "    Also caches a clean CSV at /content/data/heart.csv for future runs.\n",
        "    \"\"\"\n",
        "    import pandas as pd\n",
        "    from pathlib import Path\n",
        "\n",
        "    # Two UCI endpoints (try both)\n",
        "    urls = [\n",
        "        \"http://archive.ics.uci.edu/ml/machine-learning-databases/heart-disease/processed.cleveland.data\",\n",
        "        \"https://archive.ics.uci.edu/ml/machine-learning-databases/heart-disease/processed.cleveland.data\",\n",
        "    ]\n",
        "\n",
        "    # Column names per UCI doc\n",
        "    cols = [\n",
        "        \"age\",\"sex\",\"cp\",\"trestbps\",\"chol\",\"fbs\",\"restecg\",\"thalach\",\"exang\",\n",
        "        \"oldpeak\",\"slope\",\"ca\",\"thal\",\"num\"\n",
        "    ]\n",
        "\n",
        "    last_err = None\n",
        "    df = None\n",
        "    for u in urls:\n",
        "        try:\n",
        "            df = pd.read_csv(u, header=None, names=cols, na_values=\"?\", dtype=str)\n",
        "            if df.shape[1] == len(cols):\n",
        "                break\n",
        "        except Exception as e:\n",
        "            last_err = e\n",
        "\n",
        "    if df is None or df.empty:\n",
        "        raise RuntimeError(f\"Could not fetch UCI heart dataset. Last error: {last_err}\")\n",
        "\n",
        "    # Convert to numeric where possible\n",
        "    for c in cols:\n",
        "        df[c] = pd.to_numeric(df[c], errors=\"coerce\")\n",
        "\n",
        "    # Drop rows with any NA (ca/thal often have NA)\n",
        "    df = df.dropna().reset_index(drop=True)\n",
        "\n",
        "    # Binarize target: num in {0,1,2,3,4} -> (num > 0)\n",
        "    y = (df[\"num\"] > 0).astype(int)\n",
        "    X = df.drop(columns=[\"num\"])\n",
        "\n",
        "    # Cache a clean copy as heart.csv for your notebook\n",
        "    clean = X.copy()\n",
        "    clea\n"
      ],
      "metadata": {
        "id": "mfUaabLESPwz"
      },
      "execution_count": null,
      "outputs": []
    },
    {
      "cell_type": "code",
      "source": [
        "all_results = []\n",
        "\n",
        "for loader in [load_diabetes, load_heart, load_breast_cancer]:\n",
        "    X, y, name = loader()\n",
        "    print(f\"\\n=== Evaluating on: {name} ===\")\n",
        "    res = evaluate_models(X, y, dataset_name=name)\n",
        "    display(res.style.format({\n",
        "        \"Accuracy\": \"{:.3f}\", \"Precision\": \"{:.3f}\", \"Recall\": \"{:.3f}\",\n",
        "        \"F1\": \"{:.3f}\", \"ROC_AUC\": \"{:.3f}\"\n",
        "    }))\n",
        "    all_results.append(res)\n",
        "\n",
        "summary = pd.concat(all_results, ignore_index=True)\n",
        "\n",
        "print(\"\\n=== Combined Summary (Top by dataset) ===\")\n",
        "top = (summary\n",
        "       .sort_values([\"Dataset\",\"ROC_AUC\",\"F1\"], ascending=[True, False, False])\n",
        "       .groupby(\"Dataset\", as_index=False)\n",
        "       .first())\n",
        "\n",
        "metric_cols = [\"Accuracy\",\"Precision\",\"Recall\",\"F1\",\"ROC_AUC\"]\n",
        "display(top.style.format({c: \"{:.3f}\" for c in metric_cols}))\n"
      ],
      "metadata": {
        "colab": {
          "base_uri": "https://localhost:8080/",
          "height": 756
        },
        "id": "Z71Pec0wSWoM",
        "outputId": "cf3d55f1-96d2-4906-d7d7-af46cd9d91d8"
      },
      "execution_count": null,
      "outputs": [
        {
          "output_type": "stream",
          "name": "stdout",
          "text": [
            "\n",
            "=== Evaluating on: diabetes ===\n"
          ]
        },
        {
          "output_type": "display_data",
          "data": {
            "text/plain": [
              "<pandas.io.formats.style.Styler at 0x78d271bc1ee0>"
            ],
            "text/html": [
              "<style type=\"text/css\">\n",
              "</style>\n",
              "<table id=\"T_1be17\" class=\"dataframe\">\n",
              "  <thead>\n",
              "    <tr>\n",
              "      <th class=\"blank level0\" >&nbsp;</th>\n",
              "      <th id=\"T_1be17_level0_col0\" class=\"col_heading level0 col0\" >Dataset</th>\n",
              "      <th id=\"T_1be17_level0_col1\" class=\"col_heading level0 col1\" >Model</th>\n",
              "      <th id=\"T_1be17_level0_col2\" class=\"col_heading level0 col2\" >Accuracy</th>\n",
              "      <th id=\"T_1be17_level0_col3\" class=\"col_heading level0 col3\" >Precision</th>\n",
              "      <th id=\"T_1be17_level0_col4\" class=\"col_heading level0 col4\" >Recall</th>\n",
              "      <th id=\"T_1be17_level0_col5\" class=\"col_heading level0 col5\" >F1</th>\n",
              "      <th id=\"T_1be17_level0_col6\" class=\"col_heading level0 col6\" >ROC_AUC</th>\n",
              "    </tr>\n",
              "  </thead>\n",
              "  <tbody>\n",
              "    <tr>\n",
              "      <th id=\"T_1be17_level0_row0\" class=\"row_heading level0 row0\" >0</th>\n",
              "      <td id=\"T_1be17_row0_col0\" class=\"data row0 col0\" >diabetes</td>\n",
              "      <td id=\"T_1be17_row0_col1\" class=\"data row0 col1\" >LogisticRegression</td>\n",
              "      <td id=\"T_1be17_row0_col2\" class=\"data row0 col2\" >0.760</td>\n",
              "      <td id=\"T_1be17_row0_col3\" class=\"data row0 col3\" >0.643</td>\n",
              "      <td id=\"T_1be17_row0_col4\" class=\"data row0 col4\" >0.739</td>\n",
              "      <td id=\"T_1be17_row0_col5\" class=\"data row0 col5\" >0.685</td>\n",
              "      <td id=\"T_1be17_row0_col6\" class=\"data row0 col6\" >0.837</td>\n",
              "    </tr>\n",
              "    <tr>\n",
              "      <th id=\"T_1be17_level0_row1\" class=\"row_heading level0 row1\" >1</th>\n",
              "      <td id=\"T_1be17_row1_col0\" class=\"data row1 col0\" >diabetes</td>\n",
              "      <td id=\"T_1be17_row1_col1\" class=\"data row1 col1\" >RandomForest</td>\n",
              "      <td id=\"T_1be17_row1_col2\" class=\"data row1 col2\" >0.756</td>\n",
              "      <td id=\"T_1be17_row1_col3\" class=\"data row1 col3\" >0.639</td>\n",
              "      <td id=\"T_1be17_row1_col4\" class=\"data row1 col4\" >0.705</td>\n",
              "      <td id=\"T_1be17_row1_col5\" class=\"data row1 col5\" >0.669</td>\n",
              "      <td id=\"T_1be17_row1_col6\" class=\"data row1 col6\" >0.821</td>\n",
              "    </tr>\n",
              "    <tr>\n",
              "      <th id=\"T_1be17_level0_row2\" class=\"row_heading level0 row2\" >2</th>\n",
              "      <td id=\"T_1be17_row2_col0\" class=\"data row2 col0\" >diabetes</td>\n",
              "      <td id=\"T_1be17_row2_col1\" class=\"data row2 col1\" >SVM</td>\n",
              "      <td id=\"T_1be17_row2_col2\" class=\"data row2 col2\" >0.723</td>\n",
              "      <td id=\"T_1be17_row2_col3\" class=\"data row2 col3\" >0.585</td>\n",
              "      <td id=\"T_1be17_row2_col4\" class=\"data row2 col4\" >0.716</td>\n",
              "      <td id=\"T_1be17_row2_col5\" class=\"data row2 col5\" >0.643</td>\n",
              "      <td id=\"T_1be17_row2_col6\" class=\"data row2 col6\" >0.814</td>\n",
              "    </tr>\n",
              "    <tr>\n",
              "      <th id=\"T_1be17_level0_row3\" class=\"row_heading level0 row3\" >3</th>\n",
              "      <td id=\"T_1be17_row3_col0\" class=\"data row3 col0\" >diabetes</td>\n",
              "      <td id=\"T_1be17_row3_col1\" class=\"data row3 col1\" >XGBoost</td>\n",
              "      <td id=\"T_1be17_row3_col2\" class=\"data row3 col2\" >0.742</td>\n",
              "      <td id=\"T_1be17_row3_col3\" class=\"data row3 col3\" >0.620</td>\n",
              "      <td id=\"T_1be17_row3_col4\" class=\"data row3 col4\" >0.675</td>\n",
              "      <td id=\"T_1be17_row3_col5\" class=\"data row3 col5\" >0.645</td>\n",
              "      <td id=\"T_1be17_row3_col6\" class=\"data row3 col6\" >0.814</td>\n",
              "    </tr>\n",
              "  </tbody>\n",
              "</table>\n"
            ]
          },
          "metadata": {}
        },
        {
          "output_type": "stream",
          "name": "stdout",
          "text": [
            "\n",
            "=== Evaluating on: heart ===\n"
          ]
        },
        {
          "output_type": "display_data",
          "data": {
            "text/plain": [
              "<pandas.io.formats.style.Styler at 0x78d271bbe6f0>"
            ],
            "text/html": [
              "<style type=\"text/css\">\n",
              "</style>\n",
              "<table id=\"T_d95a5\" class=\"dataframe\">\n",
              "  <thead>\n",
              "    <tr>\n",
              "      <th class=\"blank level0\" >&nbsp;</th>\n",
              "      <th id=\"T_d95a5_level0_col0\" class=\"col_heading level0 col0\" >Dataset</th>\n",
              "      <th id=\"T_d95a5_level0_col1\" class=\"col_heading level0 col1\" >Model</th>\n",
              "      <th id=\"T_d95a5_level0_col2\" class=\"col_heading level0 col2\" >Accuracy</th>\n",
              "      <th id=\"T_d95a5_level0_col3\" class=\"col_heading level0 col3\" >Precision</th>\n",
              "      <th id=\"T_d95a5_level0_col4\" class=\"col_heading level0 col4\" >Recall</th>\n",
              "      <th id=\"T_d95a5_level0_col5\" class=\"col_heading level0 col5\" >F1</th>\n",
              "      <th id=\"T_d95a5_level0_col6\" class=\"col_heading level0 col6\" >ROC_AUC</th>\n",
              "    </tr>\n",
              "  </thead>\n",
              "  <tbody>\n",
              "    <tr>\n",
              "      <th id=\"T_d95a5_level0_row0\" class=\"row_heading level0 row0\" >0</th>\n",
              "      <td id=\"T_d95a5_row0_col0\" class=\"data row0 col0\" >heart</td>\n",
              "      <td id=\"T_d95a5_row0_col1\" class=\"data row0 col1\" >RandomForest</td>\n",
              "      <td id=\"T_d95a5_row0_col2\" class=\"data row0 col2\" >0.818</td>\n",
              "      <td id=\"T_d95a5_row0_col3\" class=\"data row0 col3\" >0.823</td>\n",
              "      <td id=\"T_d95a5_row0_col4\" class=\"data row0 col4\" >0.773</td>\n",
              "      <td id=\"T_d95a5_row0_col5\" class=\"data row0 col5\" >0.796</td>\n",
              "      <td id=\"T_d95a5_row0_col6\" class=\"data row0 col6\" >0.894</td>\n",
              "    </tr>\n",
              "    <tr>\n",
              "      <th id=\"T_d95a5_level0_row1\" class=\"row_heading level0 row1\" >1</th>\n",
              "      <td id=\"T_d95a5_row1_col0\" class=\"data row1 col0\" >heart</td>\n",
              "      <td id=\"T_d95a5_row1_col1\" class=\"data row1 col1\" >LogisticRegression</td>\n",
              "      <td id=\"T_d95a5_row1_col2\" class=\"data row1 col2\" >0.818</td>\n",
              "      <td id=\"T_d95a5_row1_col3\" class=\"data row1 col3\" >0.811</td>\n",
              "      <td id=\"T_d95a5_row1_col4\" class=\"data row1 col4\" >0.787</td>\n",
              "      <td id=\"T_d95a5_row1_col5\" class=\"data row1 col5\" >0.798</td>\n",
              "      <td id=\"T_d95a5_row1_col6\" class=\"data row1 col6\" >0.892</td>\n",
              "    </tr>\n",
              "    <tr>\n",
              "      <th id=\"T_d95a5_level0_row2\" class=\"row_heading level0 row2\" >2</th>\n",
              "      <td id=\"T_d95a5_row2_col0\" class=\"data row2 col0\" >heart</td>\n",
              "      <td id=\"T_d95a5_row2_col1\" class=\"data row2 col1\" >SVM</td>\n",
              "      <td id=\"T_d95a5_row2_col2\" class=\"data row2 col2\" >0.828</td>\n",
              "      <td id=\"T_d95a5_row2_col3\" class=\"data row2 col3\" >0.836</td>\n",
              "      <td id=\"T_d95a5_row2_col4\" class=\"data row2 col4\" >0.787</td>\n",
              "      <td id=\"T_d95a5_row2_col5\" class=\"data row2 col5\" >0.808</td>\n",
              "      <td id=\"T_d95a5_row2_col6\" class=\"data row2 col6\" >0.891</td>\n",
              "    </tr>\n",
              "    <tr>\n",
              "      <th id=\"T_d95a5_level0_row3\" class=\"row_heading level0 row3\" >3</th>\n",
              "      <td id=\"T_d95a5_row3_col0\" class=\"data row3 col0\" >heart</td>\n",
              "      <td id=\"T_d95a5_row3_col1\" class=\"data row3 col1\" >XGBoost</td>\n",
              "      <td id=\"T_d95a5_row3_col2\" class=\"data row3 col2\" >0.805</td>\n",
              "      <td id=\"T_d95a5_row3_col3\" class=\"data row3 col3\" >0.806</td>\n",
              "      <td id=\"T_d95a5_row3_col4\" class=\"data row3 col4\" >0.773</td>\n",
              "      <td id=\"T_d95a5_row3_col5\" class=\"data row3 col5\" >0.784</td>\n",
              "      <td id=\"T_d95a5_row3_col6\" class=\"data row3 col6\" >0.873</td>\n",
              "    </tr>\n",
              "  </tbody>\n",
              "</table>\n"
            ]
          },
          "metadata": {}
        },
        {
          "output_type": "stream",
          "name": "stdout",
          "text": [
            "\n",
            "=== Evaluating on: breast_cancer ===\n"
          ]
        },
        {
          "output_type": "display_data",
          "data": {
            "text/plain": [
              "<pandas.io.formats.style.Styler at 0x78d2675417c0>"
            ],
            "text/html": [
              "<style type=\"text/css\">\n",
              "</style>\n",
              "<table id=\"T_ea1e5\" class=\"dataframe\">\n",
              "  <thead>\n",
              "    <tr>\n",
              "      <th class=\"blank level0\" >&nbsp;</th>\n",
              "      <th id=\"T_ea1e5_level0_col0\" class=\"col_heading level0 col0\" >Dataset</th>\n",
              "      <th id=\"T_ea1e5_level0_col1\" class=\"col_heading level0 col1\" >Model</th>\n",
              "      <th id=\"T_ea1e5_level0_col2\" class=\"col_heading level0 col2\" >Accuracy</th>\n",
              "      <th id=\"T_ea1e5_level0_col3\" class=\"col_heading level0 col3\" >Precision</th>\n",
              "      <th id=\"T_ea1e5_level0_col4\" class=\"col_heading level0 col4\" >Recall</th>\n",
              "      <th id=\"T_ea1e5_level0_col5\" class=\"col_heading level0 col5\" >F1</th>\n",
              "      <th id=\"T_ea1e5_level0_col6\" class=\"col_heading level0 col6\" >ROC_AUC</th>\n",
              "    </tr>\n",
              "  </thead>\n",
              "  <tbody>\n",
              "    <tr>\n",
              "      <th id=\"T_ea1e5_level0_row0\" class=\"row_heading level0 row0\" >0</th>\n",
              "      <td id=\"T_ea1e5_row0_col0\" class=\"data row0 col0\" >breast_cancer</td>\n",
              "      <td id=\"T_ea1e5_row0_col1\" class=\"data row0 col1\" >SVM</td>\n",
              "      <td id=\"T_ea1e5_row0_col2\" class=\"data row0 col2\" >0.975</td>\n",
              "      <td id=\"T_ea1e5_row0_col3\" class=\"data row0 col3\" >0.978</td>\n",
              "      <td id=\"T_ea1e5_row0_col4\" class=\"data row0 col4\" >0.983</td>\n",
              "      <td id=\"T_ea1e5_row0_col5\" class=\"data row0 col5\" >0.980</td>\n",
              "      <td id=\"T_ea1e5_row0_col6\" class=\"data row0 col6\" >0.995</td>\n",
              "    </tr>\n",
              "    <tr>\n",
              "      <th id=\"T_ea1e5_level0_row1\" class=\"row_heading level0 row1\" >1</th>\n",
              "      <td id=\"T_ea1e5_row1_col0\" class=\"data row1 col0\" >breast_cancer</td>\n",
              "      <td id=\"T_ea1e5_row1_col1\" class=\"data row1 col1\" >LogisticRegression</td>\n",
              "      <td id=\"T_ea1e5_row1_col2\" class=\"data row1 col2\" >0.972</td>\n",
              "      <td id=\"T_ea1e5_row1_col3\" class=\"data row1 col3\" >0.976</td>\n",
              "      <td id=\"T_ea1e5_row1_col4\" class=\"data row1 col4\" >0.980</td>\n",
              "      <td id=\"T_ea1e5_row1_col5\" class=\"data row1 col5\" >0.978</td>\n",
              "      <td id=\"T_ea1e5_row1_col6\" class=\"data row1 col6\" >0.995</td>\n",
              "    </tr>\n",
              "    <tr>\n",
              "      <th id=\"T_ea1e5_level0_row2\" class=\"row_heading level0 row2\" >2</th>\n",
              "      <td id=\"T_ea1e5_row2_col0\" class=\"data row2 col0\" >breast_cancer</td>\n",
              "      <td id=\"T_ea1e5_row2_col1\" class=\"data row2 col1\" >XGBoost</td>\n",
              "      <td id=\"T_ea1e5_row2_col2\" class=\"data row2 col2\" >0.960</td>\n",
              "      <td id=\"T_ea1e5_row2_col3\" class=\"data row2 col3\" >0.973</td>\n",
              "      <td id=\"T_ea1e5_row2_col4\" class=\"data row2 col4\" >0.964</td>\n",
              "      <td id=\"T_ea1e5_row2_col5\" class=\"data row2 col5\" >0.967</td>\n",
              "      <td id=\"T_ea1e5_row2_col6\" class=\"data row2 col6\" >0.994</td>\n",
              "    </tr>\n",
              "    <tr>\n",
              "      <th id=\"T_ea1e5_level0_row3\" class=\"row_heading level0 row3\" >3</th>\n",
              "      <td id=\"T_ea1e5_row3_col0\" class=\"data row3 col0\" >breast_cancer</td>\n",
              "      <td id=\"T_ea1e5_row3_col1\" class=\"data row3 col1\" >RandomForest</td>\n",
              "      <td id=\"T_ea1e5_row3_col2\" class=\"data row3 col2\" >0.960</td>\n",
              "      <td id=\"T_ea1e5_row3_col3\" class=\"data row3 col3\" >0.978</td>\n",
              "      <td id=\"T_ea1e5_row3_col4\" class=\"data row3 col4\" >0.958</td>\n",
              "      <td id=\"T_ea1e5_row3_col5\" class=\"data row3 col5\" >0.967</td>\n",
              "      <td id=\"T_ea1e5_row3_col6\" class=\"data row3 col6\" >0.991</td>\n",
              "    </tr>\n",
              "  </tbody>\n",
              "</table>\n"
            ]
          },
          "metadata": {}
        },
        {
          "output_type": "stream",
          "name": "stdout",
          "text": [
            "\n",
            "=== Combined Summary (Top by dataset) ===\n"
          ]
        },
        {
          "output_type": "display_data",
          "data": {
            "text/plain": [
              "<pandas.io.formats.style.Styler at 0x78d271ac5d00>"
            ],
            "text/html": [
              "<style type=\"text/css\">\n",
              "</style>\n",
              "<table id=\"T_c9669\" class=\"dataframe\">\n",
              "  <thead>\n",
              "    <tr>\n",
              "      <th class=\"blank level0\" >&nbsp;</th>\n",
              "      <th id=\"T_c9669_level0_col0\" class=\"col_heading level0 col0\" >Dataset</th>\n",
              "      <th id=\"T_c9669_level0_col1\" class=\"col_heading level0 col1\" >Model</th>\n",
              "      <th id=\"T_c9669_level0_col2\" class=\"col_heading level0 col2\" >Accuracy</th>\n",
              "      <th id=\"T_c9669_level0_col3\" class=\"col_heading level0 col3\" >Precision</th>\n",
              "      <th id=\"T_c9669_level0_col4\" class=\"col_heading level0 col4\" >Recall</th>\n",
              "      <th id=\"T_c9669_level0_col5\" class=\"col_heading level0 col5\" >F1</th>\n",
              "      <th id=\"T_c9669_level0_col6\" class=\"col_heading level0 col6\" >ROC_AUC</th>\n",
              "    </tr>\n",
              "  </thead>\n",
              "  <tbody>\n",
              "    <tr>\n",
              "      <th id=\"T_c9669_level0_row0\" class=\"row_heading level0 row0\" >0</th>\n",
              "      <td id=\"T_c9669_row0_col0\" class=\"data row0 col0\" >breast_cancer</td>\n",
              "      <td id=\"T_c9669_row0_col1\" class=\"data row0 col1\" >SVM</td>\n",
              "      <td id=\"T_c9669_row0_col2\" class=\"data row0 col2\" >0.975</td>\n",
              "      <td id=\"T_c9669_row0_col3\" class=\"data row0 col3\" >0.978</td>\n",
              "      <td id=\"T_c9669_row0_col4\" class=\"data row0 col4\" >0.983</td>\n",
              "      <td id=\"T_c9669_row0_col5\" class=\"data row0 col5\" >0.980</td>\n",
              "      <td id=\"T_c9669_row0_col6\" class=\"data row0 col6\" >0.995</td>\n",
              "    </tr>\n",
              "    <tr>\n",
              "      <th id=\"T_c9669_level0_row1\" class=\"row_heading level0 row1\" >1</th>\n",
              "      <td id=\"T_c9669_row1_col0\" class=\"data row1 col0\" >diabetes</td>\n",
              "      <td id=\"T_c9669_row1_col1\" class=\"data row1 col1\" >LogisticRegression</td>\n",
              "      <td id=\"T_c9669_row1_col2\" class=\"data row1 col2\" >0.760</td>\n",
              "      <td id=\"T_c9669_row1_col3\" class=\"data row1 col3\" >0.643</td>\n",
              "      <td id=\"T_c9669_row1_col4\" class=\"data row1 col4\" >0.739</td>\n",
              "      <td id=\"T_c9669_row1_col5\" class=\"data row1 col5\" >0.685</td>\n",
              "      <td id=\"T_c9669_row1_col6\" class=\"data row1 col6\" >0.837</td>\n",
              "    </tr>\n",
              "    <tr>\n",
              "      <th id=\"T_c9669_level0_row2\" class=\"row_heading level0 row2\" >2</th>\n",
              "      <td id=\"T_c9669_row2_col0\" class=\"data row2 col0\" >heart</td>\n",
              "      <td id=\"T_c9669_row2_col1\" class=\"data row2 col1\" >RandomForest</td>\n",
              "      <td id=\"T_c9669_row2_col2\" class=\"data row2 col2\" >0.818</td>\n",
              "      <td id=\"T_c9669_row2_col3\" class=\"data row2 col3\" >0.823</td>\n",
              "      <td id=\"T_c9669_row2_col4\" class=\"data row2 col4\" >0.773</td>\n",
              "      <td id=\"T_c9669_row2_col5\" class=\"data row2 col5\" >0.796</td>\n",
              "      <td id=\"T_c9669_row2_col6\" class=\"data row2 col6\" >0.894</td>\n",
              "    </tr>\n",
              "  </tbody>\n",
              "</table>\n"
            ]
          },
          "metadata": {}
        }
      ]
    },
    {
      "cell_type": "code",
      "source": [
        "from sklearn.metrics import classification_report, confusion_matrix, RocCurveDisplay\n",
        "from sklearn.model_selection import train_test_split\n",
        "import matplotlib.pyplot as plt\n",
        "import numpy as np\n",
        "import pandas as pd\n",
        "\n",
        "def train_best(loader):\n",
        "    X, y, name = loader()\n",
        "    Xtr, Xte, ytr, yte = train_test_split(X, y, test_size=0.2, stratify=y, random_state=42)\n",
        "\n",
        "    # find best by CV we already used\n",
        "    cv_res = evaluate_models(X, y, dataset_name=name).sort_values([\"ROC_AUC\",\"F1\"], ascending=False).reset_index(drop=True)\n",
        "    best_name = cv_res.loc[0, \"Model\"]\n",
        "    pipes = make_pipelines(X.columns.tolist())\n",
        "    best = pipes[best_name].fit(Xtr, ytr)\n",
        "\n",
        "    print(f\"\\n=== {name.upper()} — Best model: {best_name} ===\")\n",
        "    ypred = best.predict(Xte)\n",
        "    print(classification_report(yte, ypred, digits=3))\n",
        "\n",
        "    # Confusion matrix\n",
        "    cm = confusion_matrix(yte, ypred)\n",
        "    print(\"Confusion matrix:\\n\", cm)\n",
        "\n",
        "    # ROC curve (if model has predict_proba or decision_function)\n",
        "    try:\n",
        "        RocCurveDisplay.from_estimator(best, Xte, yte)\n",
        "        plt.title(f\"ROC — {name} — {best_name}\")\n",
        "        plt.show()\n",
        "    except Exception as _:\n",
        "        pass\n",
        "\n",
        "    return name, best_name, best\n",
        "\n",
        "d_name, d_best_name, d_pipe = train_best(load_diabetes)\n",
        "h_name, h_best_name, h_pipe = train_best(load_heart)\n",
        "b_name, b_best_name, b_pipe = train_best(load_breast_cancer)\n"
      ],
      "metadata": {
        "colab": {
          "base_uri": "https://localhost:8080/",
          "height": 1000
        },
        "id": "lGEWC0CrT9wO",
        "outputId": "15e69f13-bc06-487b-fc4e-2de84e9472d8"
      },
      "execution_count": null,
      "outputs": [
        {
          "output_type": "stream",
          "name": "stdout",
          "text": [
            "\n",
            "=== DIABETES — Best model: LogisticRegression ===\n",
            "              precision    recall  f1-score   support\n",
            "\n",
            "           0      0.804     0.740     0.771       100\n",
            "           1      0.581     0.667     0.621        54\n",
            "\n",
            "    accuracy                          0.714       154\n",
            "   macro avg      0.692     0.703     0.696       154\n",
            "weighted avg      0.726     0.714     0.718       154\n",
            "\n",
            "Confusion matrix:\n",
            " [[74 26]\n",
            " [18 36]]\n"
          ]
        },
        {
          "output_type": "display_data",
          "data": {
            "text/plain": [
              "<Figure size 640x480 with 1 Axes>"
            ],
            "image/png": "[encoded data removed]"
          },
          "metadata": {}
        },
        {
          "output_type": "stream",
          "name": "stdout",
          "text": [
            "\n",
            "=== HEART — Best model: RandomForest ===\n",
            "              precision    recall  f1-score   support\n",
            "\n",
            "           0      0.824     0.875     0.848        32\n",
            "           1      0.846     0.786     0.815        28\n",
            "\n",
            "    accuracy                          0.833        60\n",
            "   macro avg      0.835     0.830     0.832        60\n",
            "weighted avg      0.834     0.833     0.833        60\n",
            "\n",
            "Confusion matrix:\n",
            " [[28  4]\n",
            " [ 6 22]]\n"
          ]
        },
        {
          "output_type": "display_data",
          "data": {
            "text/plain": [
              "<Figure size 640x480 with 1 Axes>"
            ],
            "image/png": "[encoded data removed]"
          },
          "metadata": {}
        },
        {
          "output_type": "stream",
          "name": "stdout",
          "text": [
            "\n",
            "=== BREAST_CANCER — Best model: SVM ===\n",
            "              precision    recall  f1-score   support\n",
            "\n",
            "           0      0.953     0.976     0.965        42\n",
            "           1      0.986     0.972     0.979        72\n",
            "\n",
            "    accuracy                          0.974       114\n",
            "   macro avg      0.970     0.974     0.972       114\n",
            "weighted avg      0.974     0.974     0.974       114\n",
            "\n",
            "Confusion matrix:\n",
            " [[41  1]\n",
            " [ 2 70]]\n"
          ]
        },
        {
          "output_type": "display_data",
          "data": {
            "text/plain": [
              "<Figure size 640x480 with 1 Axes>"
            ],
            "image/png": "[encoded data removed]"
          },
          "metadata": {}
        }
      ]
    },
    {
      "cell_type": "code",
      "source": [
        "import joblib, pathlib\n",
        "out_dir = pathlib.Path(\"/content\")\n",
        "paths = []\n",
        "for nm, mdl_name, pipe in [(d_name, d_best_name, d_pipe),\n",
        "                           (h_name, h_best_name, h_pipe),\n",
        "                           (b_name, b_best_name, b_pipe)]:\n",
        "    p = out_dir / f\"{nm}_{mdl_name}.joblib\"\n",
        "    joblib.dump(pipe, p)\n",
        "    paths.append(str(p))\n",
        "paths\n"
      ],
      "metadata": {
        "colab": {
          "base_uri": "https://localhost:8080/"
        },
        "id": "0c62S2BvUFiF",
        "outputId": "d70ede99-56a2-4638-a1eb-a2f368299c5e"
      },
      "execution_count": null,
      "outputs": [
        {
          "output_type": "execute_result",
          "data": {
            "text/plain": [
              "['/content/diabetes_LogisticRegression.joblib',\n",
              " '/content/heart_RandomForest.joblib',\n",
              " '/content/breast_cancer_SVM.joblib']"
            ]
          },
          "metadata": {},
          "execution_count": 21
        }
      ]
    },
    {
      "cell_type": "code",
      "source": [
        "# Columns for diabetes\n",
        "print(load_diabetes()[0].columns.tolist())\n",
        "\n",
        "sample_diabetes = pd.DataFrame([{\n",
        "    \"Pregnancies\": 2, \"Glucose\": 130, \"BloodPressure\": 70, \"SkinThickness\": 20,\n",
        "    \"Insulin\": 85, \"BMI\": 28.5, \"DiabetesPedigreeFunction\": 0.45, \"Age\": 35\n",
        "}])\n",
        "\n",
        "pred = d_pipe.predict(sample_diabetes)[0]\n",
        "proba = d_pipe.predict_proba(sample_diabetes)[0][1]\n",
        "print(f\"Diabetes → Pred: {pred} (1=Positive), Prob(Positive)={proba:.3f}\")\n"
      ],
      "metadata": {
        "colab": {
          "base_uri": "https://localhost:8080/"
        },
        "id": "dUQVg2UZUIsQ",
        "outputId": "ec7c8694-ee5b-4fbd-9f1e-5c8592bc81ea"
      },
      "execution_count": null,
      "outputs": [
        {
          "output_type": "stream",
          "name": "stdout",
          "text": [
            "['Pregnancies', 'Glucose', 'BloodPressure', 'SkinThickness', 'Insulin', 'BMI', 'DiabetesPedigreeFunction', 'Age']\n",
            "Diabetes → Pred: 0 (1=Positive), Prob(Positive)=0.388\n"
          ]
        }
      ]
    },
    {
      "cell_type": "code",
      "source": [
        "Xh, _, _ = load_heart()\n",
        "print(Xh.columns.tolist())  # reference\n",
        "\n",
        "sample_heart = pd.DataFrame([{\n",
        "    \"age\": 54, \"sex\": 1, \"cp\": 1, \"trestbps\": 130, \"chol\": 250, \"fbs\": 0,\n",
        "    \"restecg\": 0, \"thalach\": 158, \"exang\": 0, \"oldpeak\": 1.0, \"slope\": 2,\n",
        "    \"ca\": 0, \"thal\": 3\n",
        "}])\n",
        "\n",
        "pred = h_pipe.predict(sample_heart)[0]\n",
        "proba = h_pipe.predict_proba(sample_heart)[0][1]\n",
        "print(f\"Heart → Pred: {pred} (1=Disease), Prob(Disease)={proba:.3f}\")\n"
      ],
      "metadata": {
        "colab": {
          "base_uri": "https://localhost:8080/"
        },
        "id": "JPGm2vqhUMJ7",
        "outputId": "740b4797-1138-4b8b-f6f0-3d8af50d82a3"
      },
      "execution_count": null,
      "outputs": [
        {
          "output_type": "stream",
          "name": "stdout",
          "text": [
            "['age', 'sex', 'cp', 'trestbps', 'chol', 'fbs', 'restecg', 'thalach', 'exang', 'oldpeak', 'slope', 'ca', 'thal']\n",
            "Heart → Pred: 0 (1=Disease), Prob(Disease)=0.177\n"
          ]
        }
      ]
    },
    {
      "cell_type": "code",
      "source": [
        "Xb, yb, _ = load_breast_cancer()\n",
        "print(len(Xb.columns), \"features\")  # a lot—use Xb.mean() as a safe template\n",
        "\n",
        "# Use the mean values as a realistic baseline example\n",
        "sample_breast = Xb.mean().to_frame().T  # 1-row df with correct columns\n",
        "\n",
        "pred = b_pipe.predict(sample_breast)[0]\n",
        "proba = b_pipe.predict_proba(sample_breast)[0][1]\n",
        "print(f\"BreastCancer → Pred: {pred} (1=Malignant in sklearn dataset), Prob(1)={proba:.3f}\")\n"
      ],
      "metadata": {
        "colab": {
          "base_uri": "https://localhost:8080/"
        },
        "id": "FxeBlyWhUPRV",
        "outputId": "0e88b15d-3768-48c9-a604-b901d922790f"
      },
      "execution_count": null,
      "outputs": [
        {
          "output_type": "stream",
          "name": "stdout",
          "text": [
            "30 features\n",
            "BreastCancer → Pred: 1 (1=Malignant in sklearn dataset), Prob(1)=0.546\n"
          ]
        }
      ]
    },
    {
      "cell_type": "code",
      "source": [
        "summary_csv = \"/content/model_comparison_summary.csv\"\n",
        "top.to_csv(summary_csv, index=False)\n",
        "summary_csv\n"
      ],
      "metadata": {
        "colab": {
          "base_uri": "https://localhost:8080/",
          "height": 35
        },
        "id": "NkNk5LJhUTtE",
        "outputId": "90f2a849-30f2-4ca0-a6a2-f283a3d441db"
      },
      "execution_count": null,
      "outputs": [
        {
          "output_type": "execute_result",
          "data": {
            "text/plain": [
              "'/content/model_comparison_summary.csv'"
            ],
            "application/vnd.google.colaboratory.intrinsic+json": {
              "type": "string"
            }
          },
          "metadata": {},
          "execution_count": 34
        }
      ]
    },
    {
      "cell_type": "markdown",
      "source": [],
      "metadata": {
        "id": "8sdUD8DUY5Bf"
      }
    }
  ]
}